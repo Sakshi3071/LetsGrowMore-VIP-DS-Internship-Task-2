{
  "cells": [
    {
      "cell_type": "markdown",
      "metadata": {
        "id": "view-in-github",
        "colab_type": "text"
      },
      "source": [
        "<a href=\"https://colab.research.google.com/github/Sakshi3071/LetsGrowMore-VIP-DS-Internship-Task-2/blob/main/Stock_Market_Prediction_And_Forecasting(LGM)Task_2.ipynb\" target=\"_parent\"><img src=\"https://colab.research.google.com/assets/colab-badge.svg\" alt=\"Open In Colab\"/></a>"
      ]
    },
    {
      "cell_type": "markdown",
      "metadata": {
        "id": "Uvohkcf0IlqV"
      },
      "source": [
        "\n",
        "\n",
        "---\n",
        "\n",
        "**Stock Market Prediction And Forecasting Using Stacked LSTM**\n",
        "\n",
        "---\n",
        "\n",
        "\n",
        "\n",
        "---\n",
        "\n"
      ]
    },
    {
      "cell_type": "markdown",
      "metadata": {
        "id": "ZZYJ_Vw8JeVH"
      },
      "source": [
        "![stock.jpg](data:image/jpeg;base64,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)\n",
        "\n",
        "---\n",
        "\n"
      ]
    },
    {
      "cell_type": "code",
      "execution_count": 1,
      "metadata": {
        "id": "7CVCt0aUIWna"
      },
      "outputs": [],
      "source": [
        "import pandas as pd\n",
        "import numpy as np\n",
        "from sklearn.preprocessing import MinMaxScaler\n",
        "from keras.models import Sequential\n",
        "from keras.layers import LSTM, Dense\n",
        "import io\n",
        "import requests"
      ]
    },
    {
      "cell_type": "code",
      "execution_count": 2,
      "metadata": {
        "id": "ZlxIaCfBKyo5"
      },
      "outputs": [],
      "source": [
        "# Fetch stock data from the URL\n",
        "url = \"https://raw.githubusercontent.com/mwitiderrick/stockprice/master/NSE-TATAGLOBAL.csv\"\n",
        "data = requests.get(url).content\n",
        "stock = pd.read_csv(io.StringIO(data.decode('utf-8')))"
      ]
    },
    {
      "cell_type": "code",
      "execution_count": 3,
      "metadata": {
        "colab": {
          "base_uri": "https://localhost:8080/",
          "height": 206
        },
        "id": "vT9flfH3L_qg",
        "outputId": "e6b10b26-cf31-4f7c-982a-af2e419e48ef"
      },
      "outputs": [
        {
          "output_type": "execute_result",
          "data": {
            "text/plain": [
              "         Date    Open    High     Low    Last   Close  Total Trade Quantity  \\\n",
              "0  2018-09-28  234.05  235.95  230.20  233.50  233.75               3069914   \n",
              "1  2018-09-27  234.55  236.80  231.10  233.80  233.25               5082859   \n",
              "2  2018-09-26  240.00  240.00  232.50  235.00  234.25               2240909   \n",
              "3  2018-09-25  233.30  236.75  232.00  236.25  236.10               2349368   \n",
              "4  2018-09-24  233.55  239.20  230.75  234.00  233.30               3423509   \n",
              "\n",
              "   Turnover (Lacs)  \n",
              "0          7162.35  \n",
              "1         11859.95  \n",
              "2          5248.60  \n",
              "3          5503.90  \n",
              "4          7999.55  "
            ],
            "text/html": [
              "\n",
              "  <div id=\"df-a47ea614-bf10-419d-bdc0-24b7bd731486\">\n",
              "    <div class=\"colab-df-container\">\n",
              "      <div>\n",
              "<style scoped>\n",
              "    .dataframe tbody tr th:only-of-type {\n",
              "        vertical-align: middle;\n",
              "    }\n",
              "\n",
              "    .dataframe tbody tr th {\n",
              "        vertical-align: top;\n",
              "    }\n",
              "\n",
              "    .dataframe thead th {\n",
              "        text-align: right;\n",
              "    }\n",
              "</style>\n",
              "<table border=\"1\" class=\"dataframe\">\n",
              "  <thead>\n",
              "    <tr style=\"text-align: right;\">\n",
              "      <th></th>\n",
              "      <th>Date</th>\n",
              "      <th>Open</th>\n",
              "      <th>High</th>\n",
              "      <th>Low</th>\n",
              "      <th>Last</th>\n",
              "      <th>Close</th>\n",
              "      <th>Total Trade Quantity</th>\n",
              "      <th>Turnover (Lacs)</th>\n",
              "    </tr>\n",
              "  </thead>\n",
              "  <tbody>\n",
              "    <tr>\n",
              "      <th>0</th>\n",
              "      <td>2018-09-28</td>\n",
              "      <td>234.05</td>\n",
              "      <td>235.95</td>\n",
              "      <td>230.20</td>\n",
              "      <td>233.50</td>\n",
              "      <td>233.75</td>\n",
              "      <td>3069914</td>\n",
              "      <td>7162.35</td>\n",
              "    </tr>\n",
              "    <tr>\n",
              "      <th>1</th>\n",
              "      <td>2018-09-27</td>\n",
              "      <td>234.55</td>\n",
              "      <td>236.80</td>\n",
              "      <td>231.10</td>\n",
              "      <td>233.80</td>\n",
              "      <td>233.25</td>\n",
              "      <td>5082859</td>\n",
              "      <td>11859.95</td>\n",
              "    </tr>\n",
              "    <tr>\n",
              "      <th>2</th>\n",
              "      <td>2018-09-26</td>\n",
              "      <td>240.00</td>\n",
              "      <td>240.00</td>\n",
              "      <td>232.50</td>\n",
              "      <td>235.00</td>\n",
              "      <td>234.25</td>\n",
              "      <td>2240909</td>\n",
              "      <td>5248.60</td>\n",
              "    </tr>\n",
              "    <tr>\n",
              "      <th>3</th>\n",
              "      <td>2018-09-25</td>\n",
              "      <td>233.30</td>\n",
              "      <td>236.75</td>\n",
              "      <td>232.00</td>\n",
              "      <td>236.25</td>\n",
              "      <td>236.10</td>\n",
              "      <td>2349368</td>\n",
              "      <td>5503.90</td>\n",
              "    </tr>\n",
              "    <tr>\n",
              "      <th>4</th>\n",
              "      <td>2018-09-24</td>\n",
              "      <td>233.55</td>\n",
              "      <td>239.20</td>\n",
              "      <td>230.75</td>\n",
              "      <td>234.00</td>\n",
              "      <td>233.30</td>\n",
              "      <td>3423509</td>\n",
              "      <td>7999.55</td>\n",
              "    </tr>\n",
              "  </tbody>\n",
              "</table>\n",
              "</div>\n",
              "      <button class=\"colab-df-convert\" onclick=\"convertToInteractive('df-a47ea614-bf10-419d-bdc0-24b7bd731486')\"\n",
              "              title=\"Convert this dataframe to an interactive table.\"\n",
              "              style=\"display:none;\">\n",
              "        \n",
              "  <svg xmlns=\"http://www.w3.org/2000/svg\" height=\"24px\"viewBox=\"0 0 24 24\"\n",
              "       width=\"24px\">\n",
              "    <path d=\"M0 0h24v24H0V0z\" fill=\"none\"/>\n",
              "    <path d=\"M18.56 5.44l.94 2.06.94-2.06 2.06-.94-2.06-.94-.94-2.06-.94 2.06-2.06.94zm-11 1L8.5 8.5l.94-2.06 2.06-.94-2.06-.94L8.5 2.5l-.94 2.06-2.06.94zm10 10l.94 2.06.94-2.06 2.06-.94-2.06-.94-.94-2.06-.94 2.06-2.06.94z\"/><path d=\"M17.41 7.96l-1.37-1.37c-.4-.4-.92-.59-1.43-.59-.52 0-1.04.2-1.43.59L10.3 9.45l-7.72 7.72c-.78.78-.78 2.05 0 2.83L4 21.41c.39.39.9.59 1.41.59.51 0 1.02-.2 1.41-.59l7.78-7.78 2.81-2.81c.8-.78.8-2.07 0-2.86zM5.41 20L4 18.59l7.72-7.72 1.47 1.35L5.41 20z\"/>\n",
              "  </svg>\n",
              "      </button>\n",
              "      \n",
              "  <style>\n",
              "    .colab-df-container {\n",
              "      display:flex;\n",
              "      flex-wrap:wrap;\n",
              "      gap: 12px;\n",
              "    }\n",
              "\n",
              "    .colab-df-convert {\n",
              "      background-color: #E8F0FE;\n",
              "      border: none;\n",
              "      border-radius: 50%;\n",
              "      cursor: pointer;\n",
              "      display: none;\n",
              "      fill: #1967D2;\n",
              "      height: 32px;\n",
              "      padding: 0 0 0 0;\n",
              "      width: 32px;\n",
              "    }\n",
              "\n",
              "    .colab-df-convert:hover {\n",
              "      background-color: #E2EBFA;\n",
              "      box-shadow: 0px 1px 2px rgba(60, 64, 67, 0.3), 0px 1px 3px 1px rgba(60, 64, 67, 0.15);\n",
              "      fill: #174EA6;\n",
              "    }\n",
              "\n",
              "    [theme=dark] .colab-df-convert {\n",
              "      background-color: #3B4455;\n",
              "      fill: #D2E3FC;\n",
              "    }\n",
              "\n",
              "    [theme=dark] .colab-df-convert:hover {\n",
              "      background-color: #434B5C;\n",
              "      box-shadow: 0px 1px 3px 1px rgba(0, 0, 0, 0.15);\n",
              "      filter: drop-shadow(0px 1px 2px rgba(0, 0, 0, 0.3));\n",
              "      fill: #FFFFFF;\n",
              "    }\n",
              "  </style>\n",
              "\n",
              "      <script>\n",
              "        const buttonEl =\n",
              "          document.querySelector('#df-a47ea614-bf10-419d-bdc0-24b7bd731486 button.colab-df-convert');\n",
              "        buttonEl.style.display =\n",
              "          google.colab.kernel.accessAllowed ? 'block' : 'none';\n",
              "\n",
              "        async function convertToInteractive(key) {\n",
              "          const element = document.querySelector('#df-a47ea614-bf10-419d-bdc0-24b7bd731486');\n",
              "          const dataTable =\n",
              "            await google.colab.kernel.invokeFunction('convertToInteractive',\n",
              "                                                     [key], {});\n",
              "          if (!dataTable) return;\n",
              "\n",
              "          const docLinkHtml = 'Like what you see? Visit the ' +\n",
              "            '<a target=\"_blank\" href=https://colab.research.google.com/notebooks/data_table.ipynb>data table notebook</a>'\n",
              "            + ' to learn more about interactive tables.';\n",
              "          element.innerHTML = '';\n",
              "          dataTable['output_type'] = 'display_data';\n",
              "          await google.colab.output.renderOutput(dataTable, element);\n",
              "          const docLink = document.createElement('div');\n",
              "          docLink.innerHTML = docLinkHtml;\n",
              "          element.appendChild(docLink);\n",
              "        }\n",
              "      </script>\n",
              "    </div>\n",
              "  </div>\n",
              "  "
            ]
          },
          "metadata": {},
          "execution_count": 3
        }
      ],
      "source": [
        "stock.head()"
      ]
    },
    {
      "cell_type": "code",
      "execution_count": 4,
      "metadata": {
        "colab": {
          "base_uri": "https://localhost:8080/"
        },
        "id": "eRiWDAv4MqQl",
        "outputId": "65ea8cc7-5aa6-473b-bd74-682f9e7b8019"
      },
      "outputs": [
        {
          "output_type": "execute_result",
          "data": {
            "text/plain": [
              "(2035, 8)"
            ]
          },
          "metadata": {},
          "execution_count": 4
        }
      ],
      "source": [
        "stock.shape"
      ]
    },
    {
      "cell_type": "code",
      "execution_count": 5,
      "metadata": {
        "colab": {
          "base_uri": "https://localhost:8080/"
        },
        "id": "wA3sbwuUNRW2",
        "outputId": "fcf1c752-d22d-430a-e434-4593cf1ec67c"
      },
      "outputs": [
        {
          "output_type": "stream",
          "name": "stdout",
          "text": [
            "<class 'pandas.core.frame.DataFrame'>\n",
            "RangeIndex: 2035 entries, 0 to 2034\n",
            "Data columns (total 8 columns):\n",
            " #   Column                Non-Null Count  Dtype  \n",
            "---  ------                --------------  -----  \n",
            " 0   Date                  2035 non-null   object \n",
            " 1   Open                  2035 non-null   float64\n",
            " 2   High                  2035 non-null   float64\n",
            " 3   Low                   2035 non-null   float64\n",
            " 4   Last                  2035 non-null   float64\n",
            " 5   Close                 2035 non-null   float64\n",
            " 6   Total Trade Quantity  2035 non-null   int64  \n",
            " 7   Turnover (Lacs)       2035 non-null   float64\n",
            "dtypes: float64(6), int64(1), object(1)\n",
            "memory usage: 127.3+ KB\n"
          ]
        }
      ],
      "source": [
        "stock.info()"
      ]
    },
    {
      "cell_type": "code",
      "execution_count": 6,
      "metadata": {
        "colab": {
          "base_uri": "https://localhost:8080/"
        },
        "id": "HHMHmKDzNUi6",
        "outputId": "cf31040e-a62d-469e-d88d-076f1bc83656"
      },
      "outputs": [
        {
          "output_type": "execute_result",
          "data": {
            "text/plain": [
              "Date                    0\n",
              "Open                    0\n",
              "High                    0\n",
              "Low                     0\n",
              "Last                    0\n",
              "Close                   0\n",
              "Total Trade Quantity    0\n",
              "Turnover (Lacs)         0\n",
              "dtype: int64"
            ]
          },
          "metadata": {},
          "execution_count": 6
        }
      ],
      "source": [
        "stock.isnull().sum()"
      ]
    },
    {
      "cell_type": "code",
      "execution_count": 7,
      "metadata": {
        "colab": {
          "base_uri": "https://localhost:8080/",
          "height": 300
        },
        "id": "Z_jX5f1zNYiO",
        "outputId": "bbf48c61-fe5e-425a-ca14-168b1ba829ae"
      },
      "outputs": [
        {
          "output_type": "execute_result",
          "data": {
            "text/plain": [
              "              Open         High          Low         Last       Close  \\\n",
              "count  2035.000000  2035.000000  2035.000000  2035.000000  2035.00000   \n",
              "mean    149.713735   151.992826   147.293931   149.474251   149.45027   \n",
              "std      48.664509    49.413109    47.931958    48.732570    48.71204   \n",
              "min      81.100000    82.800000    80.000000    81.000000    80.95000   \n",
              "25%     120.025000   122.100000   118.300000   120.075000   120.05000   \n",
              "50%     141.500000   143.400000   139.600000   141.100000   141.25000   \n",
              "75%     157.175000   159.400000   155.150000   156.925000   156.90000   \n",
              "max     327.700000   328.750000   321.650000   325.950000   325.75000   \n",
              "\n",
              "       Total Trade Quantity  Turnover (Lacs)  \n",
              "count          2.035000e+03      2035.000000  \n",
              "mean           2.335681e+06      3899.980565  \n",
              "std            2.091778e+06      4570.767877  \n",
              "min            3.961000e+04        37.040000  \n",
              "25%            1.146444e+06      1427.460000  \n",
              "50%            1.783456e+06      2512.030000  \n",
              "75%            2.813594e+06      4539.015000  \n",
              "max            2.919102e+07     55755.080000  "
            ],
            "text/html": [
              "\n",
              "  <div id=\"df-b2d8f171-ad30-4bde-bcfb-18109f667472\">\n",
              "    <div class=\"colab-df-container\">\n",
              "      <div>\n",
              "<style scoped>\n",
              "    .dataframe tbody tr th:only-of-type {\n",
              "        vertical-align: middle;\n",
              "    }\n",
              "\n",
              "    .dataframe tbody tr th {\n",
              "        vertical-align: top;\n",
              "    }\n",
              "\n",
              "    .dataframe thead th {\n",
              "        text-align: right;\n",
              "    }\n",
              "</style>\n",
              "<table border=\"1\" class=\"dataframe\">\n",
              "  <thead>\n",
              "    <tr style=\"text-align: right;\">\n",
              "      <th></th>\n",
              "      <th>Open</th>\n",
              "      <th>High</th>\n",
              "      <th>Low</th>\n",
              "      <th>Last</th>\n",
              "      <th>Close</th>\n",
              "      <th>Total Trade Quantity</th>\n",
              "      <th>Turnover (Lacs)</th>\n",
              "    </tr>\n",
              "  </thead>\n",
              "  <tbody>\n",
              "    <tr>\n",
              "      <th>count</th>\n",
              "      <td>2035.000000</td>\n",
              "      <td>2035.000000</td>\n",
              "      <td>2035.000000</td>\n",
              "      <td>2035.000000</td>\n",
              "      <td>2035.00000</td>\n",
              "      <td>2.035000e+03</td>\n",
              "      <td>2035.000000</td>\n",
              "    </tr>\n",
              "    <tr>\n",
              "      <th>mean</th>\n",
              "      <td>149.713735</td>\n",
              "      <td>151.992826</td>\n",
              "      <td>147.293931</td>\n",
              "      <td>149.474251</td>\n",
              "      <td>149.45027</td>\n",
              "      <td>2.335681e+06</td>\n",
              "      <td>3899.980565</td>\n",
              "    </tr>\n",
              "    <tr>\n",
              "      <th>std</th>\n",
              "      <td>48.664509</td>\n",
              "      <td>49.413109</td>\n",
              "      <td>47.931958</td>\n",
              "      <td>48.732570</td>\n",
              "      <td>48.71204</td>\n",
              "      <td>2.091778e+06</td>\n",
              "      <td>4570.767877</td>\n",
              "    </tr>\n",
              "    <tr>\n",
              "      <th>min</th>\n",
              "      <td>81.100000</td>\n",
              "      <td>82.800000</td>\n",
              "      <td>80.000000</td>\n",
              "      <td>81.000000</td>\n",
              "      <td>80.95000</td>\n",
              "      <td>3.961000e+04</td>\n",
              "      <td>37.040000</td>\n",
              "    </tr>\n",
              "    <tr>\n",
              "      <th>25%</th>\n",
              "      <td>120.025000</td>\n",
              "      <td>122.100000</td>\n",
              "      <td>118.300000</td>\n",
              "      <td>120.075000</td>\n",
              "      <td>120.05000</td>\n",
              "      <td>1.146444e+06</td>\n",
              "      <td>1427.460000</td>\n",
              "    </tr>\n",
              "    <tr>\n",
              "      <th>50%</th>\n",
              "      <td>141.500000</td>\n",
              "      <td>143.400000</td>\n",
              "      <td>139.600000</td>\n",
              "      <td>141.100000</td>\n",
              "      <td>141.25000</td>\n",
              "      <td>1.783456e+06</td>\n",
              "      <td>2512.030000</td>\n",
              "    </tr>\n",
              "    <tr>\n",
              "      <th>75%</th>\n",
              "      <td>157.175000</td>\n",
              "      <td>159.400000</td>\n",
              "      <td>155.150000</td>\n",
              "      <td>156.925000</td>\n",
              "      <td>156.90000</td>\n",
              "      <td>2.813594e+06</td>\n",
              "      <td>4539.015000</td>\n",
              "    </tr>\n",
              "    <tr>\n",
              "      <th>max</th>\n",
              "      <td>327.700000</td>\n",
              "      <td>328.750000</td>\n",
              "      <td>321.650000</td>\n",
              "      <td>325.950000</td>\n",
              "      <td>325.75000</td>\n",
              "      <td>2.919102e+07</td>\n",
              "      <td>55755.080000</td>\n",
              "    </tr>\n",
              "  </tbody>\n",
              "</table>\n",
              "</div>\n",
              "      <button class=\"colab-df-convert\" onclick=\"convertToInteractive('df-b2d8f171-ad30-4bde-bcfb-18109f667472')\"\n",
              "              title=\"Convert this dataframe to an interactive table.\"\n",
              "              style=\"display:none;\">\n",
              "        \n",
              "  <svg xmlns=\"http://www.w3.org/2000/svg\" height=\"24px\"viewBox=\"0 0 24 24\"\n",
              "       width=\"24px\">\n",
              "    <path d=\"M0 0h24v24H0V0z\" fill=\"none\"/>\n",
              "    <path d=\"M18.56 5.44l.94 2.06.94-2.06 2.06-.94-2.06-.94-.94-2.06-.94 2.06-2.06.94zm-11 1L8.5 8.5l.94-2.06 2.06-.94-2.06-.94L8.5 2.5l-.94 2.06-2.06.94zm10 10l.94 2.06.94-2.06 2.06-.94-2.06-.94-.94-2.06-.94 2.06-2.06.94z\"/><path d=\"M17.41 7.96l-1.37-1.37c-.4-.4-.92-.59-1.43-.59-.52 0-1.04.2-1.43.59L10.3 9.45l-7.72 7.72c-.78.78-.78 2.05 0 2.83L4 21.41c.39.39.9.59 1.41.59.51 0 1.02-.2 1.41-.59l7.78-7.78 2.81-2.81c.8-.78.8-2.07 0-2.86zM5.41 20L4 18.59l7.72-7.72 1.47 1.35L5.41 20z\"/>\n",
              "  </svg>\n",
              "      </button>\n",
              "      \n",
              "  <style>\n",
              "    .colab-df-container {\n",
              "      display:flex;\n",
              "      flex-wrap:wrap;\n",
              "      gap: 12px;\n",
              "    }\n",
              "\n",
              "    .colab-df-convert {\n",
              "      background-color: #E8F0FE;\n",
              "      border: none;\n",
              "      border-radius: 50%;\n",
              "      cursor: pointer;\n",
              "      display: none;\n",
              "      fill: #1967D2;\n",
              "      height: 32px;\n",
              "      padding: 0 0 0 0;\n",
              "      width: 32px;\n",
              "    }\n",
              "\n",
              "    .colab-df-convert:hover {\n",
              "      background-color: #E2EBFA;\n",
              "      box-shadow: 0px 1px 2px rgba(60, 64, 67, 0.3), 0px 1px 3px 1px rgba(60, 64, 67, 0.15);\n",
              "      fill: #174EA6;\n",
              "    }\n",
              "\n",
              "    [theme=dark] .colab-df-convert {\n",
              "      background-color: #3B4455;\n",
              "      fill: #D2E3FC;\n",
              "    }\n",
              "\n",
              "    [theme=dark] .colab-df-convert:hover {\n",
              "      background-color: #434B5C;\n",
              "      box-shadow: 0px 1px 3px 1px rgba(0, 0, 0, 0.15);\n",
              "      filter: drop-shadow(0px 1px 2px rgba(0, 0, 0, 0.3));\n",
              "      fill: #FFFFFF;\n",
              "    }\n",
              "  </style>\n",
              "\n",
              "      <script>\n",
              "        const buttonEl =\n",
              "          document.querySelector('#df-b2d8f171-ad30-4bde-bcfb-18109f667472 button.colab-df-convert');\n",
              "        buttonEl.style.display =\n",
              "          google.colab.kernel.accessAllowed ? 'block' : 'none';\n",
              "\n",
              "        async function convertToInteractive(key) {\n",
              "          const element = document.querySelector('#df-b2d8f171-ad30-4bde-bcfb-18109f667472');\n",
              "          const dataTable =\n",
              "            await google.colab.kernel.invokeFunction('convertToInteractive',\n",
              "                                                     [key], {});\n",
              "          if (!dataTable) return;\n",
              "\n",
              "          const docLinkHtml = 'Like what you see? Visit the ' +\n",
              "            '<a target=\"_blank\" href=https://colab.research.google.com/notebooks/data_table.ipynb>data table notebook</a>'\n",
              "            + ' to learn more about interactive tables.';\n",
              "          element.innerHTML = '';\n",
              "          dataTable['output_type'] = 'display_data';\n",
              "          await google.colab.output.renderOutput(dataTable, element);\n",
              "          const docLink = document.createElement('div');\n",
              "          docLink.innerHTML = docLinkHtml;\n",
              "          element.appendChild(docLink);\n",
              "        }\n",
              "      </script>\n",
              "    </div>\n",
              "  </div>\n",
              "  "
            ]
          },
          "metadata": {},
          "execution_count": 7
        }
      ],
      "source": [
        "stock.describe()"
      ]
    },
    {
      "cell_type": "code",
      "execution_count": 8,
      "metadata": {
        "colab": {
          "base_uri": "https://localhost:8080/"
        },
        "id": "LAWrZ5vPNgAM",
        "outputId": "7be49bc9-3f51-44e2-8335-8e566b575ac7"
      },
      "outputs": [
        {
          "output_type": "execute_result",
          "data": {
            "text/plain": [
              "array([[0.62418301],\n",
              "       [0.62214052],\n",
              "       [0.62622549],\n",
              "       ...,\n",
              "       [0.1621732 ],\n",
              "       [0.16319444],\n",
              "       [0.16584967]])"
            ]
          },
          "metadata": {},
          "execution_count": 8
        }
      ],
      "source": [
        "#Preprocess the data\n",
        "scaler = MinMaxScaler(feature_range = (0,1))\n",
        "scaled_stock = scaler.fit_transform(stock['Close'].values.reshape(-1,1))\n",
        "scaled_stock"
      ]
    },
    {
      "cell_type": "code",
      "execution_count": 9,
      "metadata": {
        "colab": {
          "base_uri": "https://localhost:8080/",
          "height": 206
        },
        "id": "GUEYR9FsOn_T",
        "outputId": "aaa10480-7e63-48b8-8034-b57fd4e8cb37"
      },
      "outputs": [
        {
          "output_type": "execute_result",
          "data": {
            "text/plain": [
              "         Date    Open    High     Low    Last   Close  Total Trade Quantity  \\\n",
              "0  2018-09-28  234.05  235.95  230.20  233.50  233.75               3069914   \n",
              "1  2018-09-27  234.55  236.80  231.10  233.80  233.25               5082859   \n",
              "2  2018-09-26  240.00  240.00  232.50  235.00  234.25               2240909   \n",
              "3  2018-09-25  233.30  236.75  232.00  236.25  236.10               2349368   \n",
              "4  2018-09-24  233.55  239.20  230.75  234.00  233.30               3423509   \n",
              "\n",
              "   Turnover (Lacs)  \n",
              "0          7162.35  \n",
              "1         11859.95  \n",
              "2          5248.60  \n",
              "3          5503.90  \n",
              "4          7999.55  "
            ],
            "text/html": [
              "\n",
              "  <div id=\"df-6842b56f-c880-4af2-bd5b-8664b3d08819\">\n",
              "    <div class=\"colab-df-container\">\n",
              "      <div>\n",
              "<style scoped>\n",
              "    .dataframe tbody tr th:only-of-type {\n",
              "        vertical-align: middle;\n",
              "    }\n",
              "\n",
              "    .dataframe tbody tr th {\n",
              "        vertical-align: top;\n",
              "    }\n",
              "\n",
              "    .dataframe thead th {\n",
              "        text-align: right;\n",
              "    }\n",
              "</style>\n",
              "<table border=\"1\" class=\"dataframe\">\n",
              "  <thead>\n",
              "    <tr style=\"text-align: right;\">\n",
              "      <th></th>\n",
              "      <th>Date</th>\n",
              "      <th>Open</th>\n",
              "      <th>High</th>\n",
              "      <th>Low</th>\n",
              "      <th>Last</th>\n",
              "      <th>Close</th>\n",
              "      <th>Total Trade Quantity</th>\n",
              "      <th>Turnover (Lacs)</th>\n",
              "    </tr>\n",
              "  </thead>\n",
              "  <tbody>\n",
              "    <tr>\n",
              "      <th>0</th>\n",
              "      <td>2018-09-28</td>\n",
              "      <td>234.05</td>\n",
              "      <td>235.95</td>\n",
              "      <td>230.20</td>\n",
              "      <td>233.50</td>\n",
              "      <td>233.75</td>\n",
              "      <td>3069914</td>\n",
              "      <td>7162.35</td>\n",
              "    </tr>\n",
              "    <tr>\n",
              "      <th>1</th>\n",
              "      <td>2018-09-27</td>\n",
              "      <td>234.55</td>\n",
              "      <td>236.80</td>\n",
              "      <td>231.10</td>\n",
              "      <td>233.80</td>\n",
              "      <td>233.25</td>\n",
              "      <td>5082859</td>\n",
              "      <td>11859.95</td>\n",
              "    </tr>\n",
              "    <tr>\n",
              "      <th>2</th>\n",
              "      <td>2018-09-26</td>\n",
              "      <td>240.00</td>\n",
              "      <td>240.00</td>\n",
              "      <td>232.50</td>\n",
              "      <td>235.00</td>\n",
              "      <td>234.25</td>\n",
              "      <td>2240909</td>\n",
              "      <td>5248.60</td>\n",
              "    </tr>\n",
              "    <tr>\n",
              "      <th>3</th>\n",
              "      <td>2018-09-25</td>\n",
              "      <td>233.30</td>\n",
              "      <td>236.75</td>\n",
              "      <td>232.00</td>\n",
              "      <td>236.25</td>\n",
              "      <td>236.10</td>\n",
              "      <td>2349368</td>\n",
              "      <td>5503.90</td>\n",
              "    </tr>\n",
              "    <tr>\n",
              "      <th>4</th>\n",
              "      <td>2018-09-24</td>\n",
              "      <td>233.55</td>\n",
              "      <td>239.20</td>\n",
              "      <td>230.75</td>\n",
              "      <td>234.00</td>\n",
              "      <td>233.30</td>\n",
              "      <td>3423509</td>\n",
              "      <td>7999.55</td>\n",
              "    </tr>\n",
              "  </tbody>\n",
              "</table>\n",
              "</div>\n",
              "      <button class=\"colab-df-convert\" onclick=\"convertToInteractive('df-6842b56f-c880-4af2-bd5b-8664b3d08819')\"\n",
              "              title=\"Convert this dataframe to an interactive table.\"\n",
              "              style=\"display:none;\">\n",
              "        \n",
              "  <svg xmlns=\"http://www.w3.org/2000/svg\" height=\"24px\"viewBox=\"0 0 24 24\"\n",
              "       width=\"24px\">\n",
              "    <path d=\"M0 0h24v24H0V0z\" fill=\"none\"/>\n",
              "    <path d=\"M18.56 5.44l.94 2.06.94-2.06 2.06-.94-2.06-.94-.94-2.06-.94 2.06-2.06.94zm-11 1L8.5 8.5l.94-2.06 2.06-.94-2.06-.94L8.5 2.5l-.94 2.06-2.06.94zm10 10l.94 2.06.94-2.06 2.06-.94-2.06-.94-.94-2.06-.94 2.06-2.06.94z\"/><path d=\"M17.41 7.96l-1.37-1.37c-.4-.4-.92-.59-1.43-.59-.52 0-1.04.2-1.43.59L10.3 9.45l-7.72 7.72c-.78.78-.78 2.05 0 2.83L4 21.41c.39.39.9.59 1.41.59.51 0 1.02-.2 1.41-.59l7.78-7.78 2.81-2.81c.8-.78.8-2.07 0-2.86zM5.41 20L4 18.59l7.72-7.72 1.47 1.35L5.41 20z\"/>\n",
              "  </svg>\n",
              "      </button>\n",
              "      \n",
              "  <style>\n",
              "    .colab-df-container {\n",
              "      display:flex;\n",
              "      flex-wrap:wrap;\n",
              "      gap: 12px;\n",
              "    }\n",
              "\n",
              "    .colab-df-convert {\n",
              "      background-color: #E8F0FE;\n",
              "      border: none;\n",
              "      border-radius: 50%;\n",
              "      cursor: pointer;\n",
              "      display: none;\n",
              "      fill: #1967D2;\n",
              "      height: 32px;\n",
              "      padding: 0 0 0 0;\n",
              "      width: 32px;\n",
              "    }\n",
              "\n",
              "    .colab-df-convert:hover {\n",
              "      background-color: #E2EBFA;\n",
              "      box-shadow: 0px 1px 2px rgba(60, 64, 67, 0.3), 0px 1px 3px 1px rgba(60, 64, 67, 0.15);\n",
              "      fill: #174EA6;\n",
              "    }\n",
              "\n",
              "    [theme=dark] .colab-df-convert {\n",
              "      background-color: #3B4455;\n",
              "      fill: #D2E3FC;\n",
              "    }\n",
              "\n",
              "    [theme=dark] .colab-df-convert:hover {\n",
              "      background-color: #434B5C;\n",
              "      box-shadow: 0px 1px 3px 1px rgba(0, 0, 0, 0.15);\n",
              "      filter: drop-shadow(0px 1px 2px rgba(0, 0, 0, 0.3));\n",
              "      fill: #FFFFFF;\n",
              "    }\n",
              "  </style>\n",
              "\n",
              "      <script>\n",
              "        const buttonEl =\n",
              "          document.querySelector('#df-6842b56f-c880-4af2-bd5b-8664b3d08819 button.colab-df-convert');\n",
              "        buttonEl.style.display =\n",
              "          google.colab.kernel.accessAllowed ? 'block' : 'none';\n",
              "\n",
              "        async function convertToInteractive(key) {\n",
              "          const element = document.querySelector('#df-6842b56f-c880-4af2-bd5b-8664b3d08819');\n",
              "          const dataTable =\n",
              "            await google.colab.kernel.invokeFunction('convertToInteractive',\n",
              "                                                     [key], {});\n",
              "          if (!dataTable) return;\n",
              "\n",
              "          const docLinkHtml = 'Like what you see? Visit the ' +\n",
              "            '<a target=\"_blank\" href=https://colab.research.google.com/notebooks/data_table.ipynb>data table notebook</a>'\n",
              "            + ' to learn more about interactive tables.';\n",
              "          element.innerHTML = '';\n",
              "          dataTable['output_type'] = 'display_data';\n",
              "          await google.colab.output.renderOutput(dataTable, element);\n",
              "          const docLink = document.createElement('div');\n",
              "          docLink.innerHTML = docLinkHtml;\n",
              "          element.appendChild(docLink);\n",
              "        }\n",
              "      </script>\n",
              "    </div>\n",
              "  </div>\n",
              "  "
            ]
          },
          "metadata": {},
          "execution_count": 9
        }
      ],
      "source": [
        "stock.head()"
      ]
    },
    {
      "cell_type": "code",
      "execution_count": 10,
      "metadata": {
        "id": "_ySP56LYO-4E"
      },
      "outputs": [],
      "source": [
        "# Split the data into train and test sets\n",
        "train_size = int(len(scaled_stock) * 0.8)\n",
        "train_data = scaled_stock[:train_size]\n",
        "test_data = scaled_stock[train_size:]"
      ]
    },
    {
      "cell_type": "code",
      "execution_count": 11,
      "metadata": {
        "id": "VZ84H8G9PRva"
      },
      "outputs": [],
      "source": [
        "#Create sequences\n",
        "def create_sequences(data, seq_length):\n",
        "    X, y = [], []\n",
        "    for i in range(len(data) - seq_length):\n",
        "        X.append(data[i:i+seq_length])\n",
        "        y.append(data[i+seq_length])\n",
        "    return np.array(X), np.array(y)"
      ]
    },
    {
      "cell_type": "code",
      "execution_count": 12,
      "metadata": {
        "id": "gC5BPY_-Ps-G"
      },
      "outputs": [],
      "source": [
        "seq_length = 30  # Number of previous days' prices to consider\n",
        "X_train, y_train = create_sequences(train_data, seq_length)\n",
        "X_test, y_test = create_sequences(test_data, seq_length)"
      ]
    },
    {
      "cell_type": "code",
      "execution_count": 13,
      "metadata": {
        "id": "S6BbadmoQANx"
      },
      "outputs": [],
      "source": [
        "# Build the model\n",
        "sq = Sequential()\n",
        "sq.add(LSTM(50, return_sequences=True, input_shape=(seq_length, 1)))\n",
        "sq.add(LSTM(50, return_sequences=True))\n",
        "sq.add(LSTM(50))\n",
        "sq.add(Dense(1))\n",
        "sq.compile(optimizer='adam', loss='mse')"
      ]
    },
    {
      "cell_type": "code",
      "execution_count": 35,
      "metadata": {
        "colab": {
          "base_uri": "https://localhost:8080/"
        },
        "id": "b_jU_ixNQP2Y",
        "outputId": "cc79a4d0-5128-482e-84dc-1e0feb90ce93"
      },
      "outputs": [
        {
          "output_type": "stream",
          "name": "stdout",
          "text": [
            "Epoch 1/50\n",
            "8/8 [==============================] - 1s 130ms/step - loss: 2.8798e-04\n",
            "Epoch 2/50\n",
            "8/8 [==============================] - 1s 139ms/step - loss: 3.8093e-04\n",
            "Epoch 3/50\n",
            "8/8 [==============================] - 1s 133ms/step - loss: 3.3410e-04\n",
            "Epoch 4/50\n",
            "8/8 [==============================] - 1s 127ms/step - loss: 3.0578e-04\n",
            "Epoch 5/50\n",
            "8/8 [==============================] - 1s 131ms/step - loss: 3.0443e-04\n",
            "Epoch 6/50\n",
            "8/8 [==============================] - 1s 136ms/step - loss: 3.3752e-04\n",
            "Epoch 7/50\n",
            "8/8 [==============================] - 2s 249ms/step - loss: 3.1100e-04\n",
            "Epoch 8/50\n",
            "8/8 [==============================] - 1s 148ms/step - loss: 2.5578e-04\n",
            "Epoch 9/50\n",
            "8/8 [==============================] - 1s 125ms/step - loss: 2.9307e-04\n",
            "Epoch 10/50\n",
            "8/8 [==============================] - 1s 129ms/step - loss: 2.5628e-04\n",
            "Epoch 11/50\n",
            "8/8 [==============================] - 1s 125ms/step - loss: 2.7240e-04\n",
            "Epoch 12/50\n",
            "8/8 [==============================] - 1s 126ms/step - loss: 2.6809e-04\n",
            "Epoch 13/50\n",
            "8/8 [==============================] - 1s 129ms/step - loss: 2.6566e-04\n",
            "Epoch 14/50\n",
            "8/8 [==============================] - 1s 127ms/step - loss: 2.6264e-04\n",
            "Epoch 15/50\n",
            "8/8 [==============================] - 1s 135ms/step - loss: 2.5022e-04\n",
            "Epoch 16/50\n",
            "8/8 [==============================] - 1s 132ms/step - loss: 2.5444e-04\n",
            "Epoch 17/50\n",
            "8/8 [==============================] - 1s 144ms/step - loss: 2.6669e-04\n",
            "Epoch 18/50\n",
            "8/8 [==============================] - 2s 266ms/step - loss: 2.6620e-04\n",
            "Epoch 19/50\n",
            "8/8 [==============================] - 1s 150ms/step - loss: 2.7769e-04\n",
            "Epoch 20/50\n",
            "8/8 [==============================] - 1s 130ms/step - loss: 2.6560e-04\n",
            "Epoch 21/50\n",
            "8/8 [==============================] - 1s 131ms/step - loss: 2.3616e-04\n",
            "Epoch 22/50\n",
            "8/8 [==============================] - 1s 132ms/step - loss: 2.7156e-04\n",
            "Epoch 23/50\n",
            "8/8 [==============================] - 1s 133ms/step - loss: 2.9580e-04\n",
            "Epoch 24/50\n",
            "8/8 [==============================] - 1s 132ms/step - loss: 3.2960e-04\n",
            "Epoch 25/50\n",
            "8/8 [==============================] - 1s 134ms/step - loss: 4.2157e-04\n",
            "Epoch 26/50\n",
            "8/8 [==============================] - 1s 129ms/step - loss: 3.2388e-04\n",
            "Epoch 27/50\n",
            "8/8 [==============================] - 1s 128ms/step - loss: 3.0124e-04\n",
            "Epoch 28/50\n",
            "8/8 [==============================] - 1s 158ms/step - loss: 2.9679e-04\n",
            "Epoch 29/50\n",
            "8/8 [==============================] - 2s 260ms/step - loss: 2.9111e-04\n",
            "Epoch 30/50\n",
            "8/8 [==============================] - 1s 129ms/step - loss: 2.4616e-04\n",
            "Epoch 31/50\n",
            "8/8 [==============================] - 1s 133ms/step - loss: 2.4784e-04\n",
            "Epoch 32/50\n",
            "8/8 [==============================] - 1s 134ms/step - loss: 2.3663e-04\n",
            "Epoch 33/50\n",
            "8/8 [==============================] - 1s 131ms/step - loss: 2.4624e-04\n",
            "Epoch 34/50\n",
            "8/8 [==============================] - 1s 131ms/step - loss: 2.3199e-04\n",
            "Epoch 35/50\n",
            "8/8 [==============================] - 1s 128ms/step - loss: 2.3036e-04\n",
            "Epoch 36/50\n",
            "8/8 [==============================] - 1s 129ms/step - loss: 2.7080e-04\n",
            "Epoch 37/50\n",
            "8/8 [==============================] - 1s 130ms/step - loss: 2.3298e-04\n",
            "Epoch 38/50\n",
            "8/8 [==============================] - 1s 133ms/step - loss: 2.6031e-04\n",
            "Epoch 39/50\n",
            "8/8 [==============================] - 1s 175ms/step - loss: 2.5581e-04\n",
            "Epoch 40/50\n",
            "8/8 [==============================] - 2s 258ms/step - loss: 2.3759e-04\n",
            "Epoch 41/50\n",
            "8/8 [==============================] - 1s 130ms/step - loss: 2.4579e-04\n",
            "Epoch 42/50\n",
            "8/8 [==============================] - 1s 130ms/step - loss: 2.3967e-04\n",
            "Epoch 43/50\n",
            "8/8 [==============================] - 1s 131ms/step - loss: 2.3064e-04\n",
            "Epoch 44/50\n",
            "8/8 [==============================] - 1s 128ms/step - loss: 2.6376e-04\n",
            "Epoch 45/50\n",
            "8/8 [==============================] - 1s 134ms/step - loss: 2.6548e-04\n",
            "Epoch 46/50\n",
            "8/8 [==============================] - 1s 133ms/step - loss: 2.5994e-04\n",
            "Epoch 47/50\n",
            "8/8 [==============================] - 1s 130ms/step - loss: 2.5544e-04\n",
            "Epoch 48/50\n",
            "8/8 [==============================] - 1s 131ms/step - loss: 2.6589e-04\n",
            "Epoch 49/50\n",
            "8/8 [==============================] - 1s 128ms/step - loss: 2.3852e-04\n",
            "Epoch 50/50\n",
            "8/8 [==============================] - 2s 208ms/step - loss: 2.3677e-04\n"
          ]
        },
        {
          "output_type": "execute_result",
          "data": {
            "text/plain": [
              "<keras.callbacks.History at 0x7f282a9b18d0>"
            ]
          },
          "metadata": {},
          "execution_count": 35
        }
      ],
      "source": [
        "# Train the model\n",
        "sq.fit(X_train, y_train, epochs=50, batch_size=200)"
      ]
    },
    {
      "cell_type": "code",
      "execution_count": 37,
      "metadata": {
        "colab": {
          "base_uri": "https://localhost:8080/"
        },
        "id": "ZYNJLfhGQVan",
        "outputId": "436c5abf-06b4-48ac-bef7-ef7b08d8d933"
      },
      "outputs": [
        {
          "output_type": "stream",
          "name": "stdout",
          "text": [
            "50/50 [==============================] - 1s 17ms/step - loss: 2.2165e-04\n",
            "Train Loss: 0.0002216497523477301\n",
            "12/12 [==============================] - 0s 23ms/step - loss: 1.8744e-04\n",
            "Test Loss: 0.0001874408044386655\n"
          ]
        }
      ],
      "source": [
        "#Evaluate the model\n",
        "train_loss = sq.evaluate(X_train, y_train)\n",
        "print('Train Loss:', train_loss)\n",
        "test_loss = sq.evaluate(X_test, y_test)\n",
        "print('Test Loss:', test_loss)"
      ]
    },
    {
      "cell_type": "code",
      "execution_count": 36,
      "metadata": {
        "colab": {
          "base_uri": "https://localhost:8080/"
        },
        "id": "mOLakxGQQrg2",
        "outputId": "f0cec449-cbc5-4c37-cf2c-b052c88e63f4"
      },
      "outputs": [
        {
          "output_type": "stream",
          "name": "stdout",
          "text": [
            "50/50 [==============================] - 2s 30ms/step\n",
            "12/12 [==============================] - 0s 20ms/step\n"
          ]
        }
      ],
      "source": [
        "# Make predictions\n",
        "train_pred = sq.predict(X_train)\n",
        "test_pred = sq.predict(X_test)"
      ]
    },
    {
      "cell_type": "code",
      "execution_count": 38,
      "metadata": {
        "id": "Sdchs5okQsei"
      },
      "outputs": [],
      "source": [
        "## Scale the predictions back to the original range\n",
        "train_pred = scaler.inverse_transform(train_pred)\n",
        "test_pred = scaler.inverse_transform(test_pred)"
      ]
    },
    {
      "cell_type": "code",
      "execution_count": 39,
      "metadata": {
        "colab": {
          "base_uri": "https://localhost:8080/",
          "height": 564
        },
        "id": "e6WPHwngRQwS",
        "outputId": "92b8cc5c-9c7c-4f52-e78d-95762fba7238"
      },
      "outputs": [
        {
          "output_type": "display_data",
          "data": {
            "text/plain": [
              "<Figure size 1200x600 with 1 Axes>"
            ],
            "image/png": "[encoded data removed]"
          },
          "metadata": {}
        }
      ],
      "source": [
        "import matplotlib.pyplot as plt\n",
        "\n",
        "# Plot the predicted values against the actual values\n",
        "plt.figure(figsize=(12, 6))\n",
        "plt.plot(scaler.fit_transform(y_test), label='Actual')\n",
        "plt.plot(scaler.fit_transform(test_pred), label='Predicted')\n",
        "plt.xlabel('Time')\n",
        "plt.ylabel('Stock Price')\n",
        "plt.title('Actual vs. Predicted Stock Prices')\n",
        "plt.legend()\n",
        "plt.show()\n"
      ]
    },
    {
      "cell_type": "code",
      "source": [
        "from sklearn.metrics import r2_score, mean_absolute_percentage_error\n",
        "\n",
        "# Calculate R-squared on the test set\n",
        "r2 = r2_score(scaler.fit_transform(y_test), scaler.fit_transform(test_pred))\n",
        "print('R-squared:', r2)\n",
        "\n",
        "import numpy as np\n",
        "\n",
        "# Calculate mean absolute percentage error (MAPE) on the test set\n",
        "mape = np.mean(np.abs((scaler.fit_transform(y_test) - scaler.fit_transform(test_pred) / np.maximum(y_test, 1e-8)))) * 100\n",
        "print('MAPE:', mape)\n",
        "\n"
      ],
      "metadata": {
        "colab": {
          "base_uri": "https://localhost:8080/"
        },
        "id": "ObYllCQw0du9",
        "outputId": "8936a157-ffb9-4704-c441-7b5f11eaeeec"
      },
      "execution_count": 44,
      "outputs": [
        {
          "output_type": "stream",
          "name": "stdout",
          "text": [
            "R-squared: 0.9536093307293964\n",
            "MAPE: 412476.1064163956\n"
          ]
        }
      ]
    },
    {
      "cell_type": "markdown",
      "source": [
        "\n",
        "\n",
        "---\n",
        "\n",
        "\n",
        "\n",
        "---\n",
        "\n",
        "**THE END**\n",
        "\n",
        "---\n",
        "\n",
        "\n",
        "\n",
        "---\n",
        "\n"
      ],
      "metadata": {
        "id": "-TSWIi9o7Q5Y"
      }
    },
    {
      "cell_type": "code",
      "source": [],
      "metadata": {
        "id": "td0DpWZN1f-K"
      },
      "execution_count": 19,
      "outputs": []
    }
  ],
  "metadata": {
    "colab": {
      "provenance": [],
      "authorship_tag": "ABX9TyPI36SrHdpMWGX0WzkuBLqM",
      "include_colab_link": true
    },
    "kernelspec": {
      "display_name": "Python 3",
      "name": "python3"
    },
    "language_info": {
      "name": "python"
    }
  },
  "nbformat": 4,
  "nbformat_minor": 0
}